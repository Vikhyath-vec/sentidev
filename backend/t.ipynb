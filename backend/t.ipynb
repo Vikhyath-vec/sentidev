{
 "cells": [
  {
   "cell_type": "code",
   "execution_count": 1,
   "metadata": {},
   "outputs": [],
   "source": [
    "from selenium import webdriver\n",
    "from selenium.webdriver.common.by import By\n",
    "from selenium.webdriver.common.keys import Keys\n",
    "from bs4 import BeautifulSoup\n",
    "import time\n",
    "import requests\n",
    "import re\n",
    "import csv\n",
    "\n",
    "# def extract(movie_name):\n",
    "#     url = \"https://www.google.com/search?q={}\".format(movie_name)\n",
    "#     page = requests.get(url)\n",
    "#     soup = BeautifulSoup(page.content, \"html.parser\")\n",
    "\n",
    "#     results = soup.find_all(\"div\", class_=\"S8ee5.CwbYXd.wHYlTd\")\n",
    "#     print(results)\n",
    "\n",
    "def extract_google_reviews(movie_name):\n",
    "    # Initialize the Chrome web driver\n",
    "    driver = webdriver.Chrome()\n",
    "\n",
    "    # Search for the movie on Google\n",
    "    driver.get(\"https://www.imdb.com/\")\n",
    "    search_box = driver.find_element(By.NAME, \"q\")\n",
    "    search_box.send_keys(f\"{movie_name}\")\n",
    "    search_box.send_keys(Keys.RETURN)\n",
    "\n",
    "    # Click on the \"All reviews\" button to see more reviews\n",
    "    home_url = driver.find_element(By.CLASS_NAME, \"ipc-metadata-list-summary-item__t\").get_attribute(\"href\")\n",
    "    home_url = home_url.split(\"?\")[0]\n",
    "    driver.get(f\"{home_url}taglines/\")\n",
    "    time.sleep(2)\n",
    "    tagline = driver.find_element(By.CLASS_NAME, \"ipc-html-content-inner-div\").text\n",
    "    print(tagline)\n",
    "\n",
    "    # while True:\n",
    "    #     try:\n",
    "    #         button = driver.find_element(By.CLASS_NAME, \"ipl-load-more__button\")\n",
    "    #         button.click()\n",
    "    #         time.sleep(2)\n",
    "    #     except:\n",
    "    #         break\n",
    "    \n",
    "    # rows = [] \n",
    "\n",
    "    # complete_reviews = driver.find_elements(By.CLASS_NAME, \"lister-item-content\")\n",
    "    # # print(len(li))\n",
    "    # for complete_review in complete_reviews:\n",
    "    #     date = complete_review.find_element(By.CLASS_NAME, \"review-date\").text\n",
    "    #     title = complete_review.find_element(By.CLASS_NAME, \"title\").text\n",
    "    #     try:\n",
    "    #         rating = complete_review.find_element(By.CLASS_NAME, \"rating-other-user-rating\").text[:-3]\n",
    "    #     except:\n",
    "    #         rating = 0\n",
    "    #     review = complete_review.find_element(By.CLASS_NAME, \"content\").text\n",
    "    #     if review == \"\":\n",
    "    #         continue\n",
    "\n",
    "    #     match = re.search(r'.*?\\d+ out of \\d+ found', review, re.DOTALL)\n",
    "        \n",
    "    #     if match:\n",
    "    #         pos = match.span()[0]\n",
    "    #         review = review[:pos]\n",
    "\n",
    "    #     review.replace(\"\\n\", \" \")\n",
    "    #     review.replace(\"\\\\'\", \"'\")\n",
    "    #     rows.append([movie_name, date, title, review, rating])\n",
    "    # with open('reviews.csv', 'a') as f:\n",
    "    #     csvwriter = csv.writer(f, delimiter='~')\n",
    "    #     csvwriter.writerows(rows)\n",
    "    driver.quit()\n"
   ]
  },
  {
   "cell_type": "code",
   "execution_count": 2,
   "metadata": {},
   "outputs": [
    {
     "name": "stderr",
     "output_type": "stream",
     "text": [
      "There was an error managing chrome (error sending request for url (https://chromedriver.storage.googleapis.com/LATEST_RELEASE_103): error trying to connect: dns error: failed to lookup address information: Name does not resolve); using driver found in the cache\n"
     ]
    },
    {
     "name": "stdout",
     "output_type": "stream",
     "text": [
      "Bring Him Home\n"
     ]
    }
   ],
   "source": [
    "fields = ['Movie Name', 'Date', 'Title', 'Review', 'Rating']\n",
    "with open('reviews.csv', 'w') as f:\n",
    "    csvwriter = csv.writer(f, delimiter='~')\n",
    "    csvwriter.writerow(fields)\n",
    "extract_google_reviews(\"The Martian\")\n",
    "    "
   ]
  }
 ],
 "metadata": {
  "kernelspec": {
   "display_name": "Python 3",
   "language": "python",
   "name": "python3"
  },
  "language_info": {
   "codemirror_mode": {
    "name": "ipython",
    "version": 3
   },
   "file_extension": ".py",
   "mimetype": "text/x-python",
   "name": "python",
   "nbconvert_exporter": "python",
   "pygments_lexer": "ipython3",
   "version": "3.8.10"
  },
  "orig_nbformat": 4
 },
 "nbformat": 4,
 "nbformat_minor": 2
}
